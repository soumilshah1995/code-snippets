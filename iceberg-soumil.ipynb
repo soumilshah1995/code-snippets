{
 "cells": [
  {
   "cell_type": "markdown",
   "id": "2f69b687-0689-4659-b1df-efaafc55273e",
   "metadata": {},
   "source": [
    "# ![iceberg-logo](https://www.apache.org/logos/res/iceberg/iceberg.png)"
   ]
  },
  {
   "cell_type": "markdown",
   "id": "eddee404-d1b0-4126-91dd-65df66e5529e",
   "metadata": {},
   "source": [
    "#### Create Spark Session "
   ]
  },
  {
   "cell_type": "code",
   "execution_count": 14,
   "id": "a566e7f3-e7c2-4f04-b35b-3b2a5780211f",
   "metadata": {},
   "outputs": [
    {
     "data": {
      "text/html": [
       "\n",
       "            <div>\n",
       "                <p><b>SparkSession - in-memory</b></p>\n",
       "                \n",
       "        <div>\n",
       "            <p><b>SparkContext</b></p>\n",
       "\n",
       "            <p><a href=\"http://5c0fd3641a96:4041\">Spark UI</a></p>\n",
       "\n",
       "            <dl>\n",
       "              <dt>Version</dt>\n",
       "                <dd><code>v3.5.1</code></dd>\n",
       "              <dt>Master</dt>\n",
       "                <dd><code>local[*]</code></dd>\n",
       "              <dt>AppName</dt>\n",
       "                <dd><code>PySparkShell</code></dd>\n",
       "            </dl>\n",
       "        </div>\n",
       "        \n",
       "            </div>\n",
       "        "
      ],
      "text/plain": [
       "<pyspark.sql.session.SparkSession at 0xffff5c965090>"
      ]
     },
     "execution_count": 14,
     "metadata": {},
     "output_type": "execute_result"
    }
   ],
   "source": [
    "from pyspark.sql import SparkSession\n",
    "spark = SparkSession.builder.appName(\"Jupyter\").getOrCreate()\n",
    "\n",
    "spark"
   ]
  },
  {
   "cell_type": "code",
   "execution_count": 90,
   "id": "6829c977-5d30-4bb0-a8ba-ab56b8245c1a",
   "metadata": {},
   "outputs": [
    {
     "data": {
      "text/html": [
       "<table>\n",
       "    <thead>\n",
       "        <tr>\n",
       "        </tr>\n",
       "    </thead>\n",
       "    <tbody>\n",
       "    </tbody>\n",
       "</table>"
      ],
      "text/plain": [
       "++\n",
       "||\n",
       "++\n",
       "++"
      ]
     },
     "execution_count": 90,
     "metadata": {},
     "output_type": "execute_result"
    }
   ],
   "source": [
    "%%sql\n",
    "CREATE DATABASE IF NOT EXISTS icebergdb"
   ]
  },
  {
   "cell_type": "markdown",
   "id": "84a9b07c-75b0-4f65-abc0-0f229759cca3",
   "metadata": {},
   "source": [
    "# Sample Data"
   ]
  },
  {
   "cell_type": "code",
   "execution_count": 91,
   "id": "ddc17ce2-405c-490a-9aeb-d1417375b489",
   "metadata": {},
   "outputs": [
    {
     "name": "stdout",
     "output_type": "stream",
     "text": [
      "+---+-------+---+----+-------------------+\n",
      "| id|   name|age|city|          create_ts|\n",
      "+---+-------+---+----+-------------------+\n",
      "|  1|   John| 25| NYC|2023-09-28 00:00:00|\n",
      "|  2|  Emily| 30| SFO|2023-09-28 00:00:00|\n",
      "|  3|Michael| 35| ORD|2023-09-28 00:00:00|\n",
      "|  4| Andrew| 40| NYC|2023-10-28 00:00:00|\n",
      "|  5|    Bob| 28| SEA|2023-09-23 00:00:00|\n",
      "|  6|Charlie| 31| DFW|2023-08-29 00:00:00|\n",
      "+---+-------+---+----+-------------------+\n",
      "\n"
     ]
    }
   ],
   "source": [
    "# Define the records\n",
    "records = [\n",
    "    (1, 'John', 25, 'NYC', '2023-09-28 00:00:00'),\n",
    "    (2, 'Emily', 30, 'SFO', '2023-09-28 00:00:00'),\n",
    "    (3, 'Michael', 35, 'ORD', '2023-09-28 00:00:00'),\n",
    "    (4, 'Andrew', 40, 'NYC', '2023-10-28 00:00:00'),\n",
    "    (5, 'Bob', 28, 'SEA', '2023-09-23 00:00:00'),\n",
    "    (6, 'Charlie', 31, 'DFW', '2023-08-29 00:00:00')\n",
    "]\n",
    "\n",
    "# Define the schema\n",
    "schema = StructType([\n",
    "    StructField(\"id\", IntegerType(), False),\n",
    "    StructField(\"name\", StringType(), True),\n",
    "    StructField(\"age\", IntegerType(), True),\n",
    "    StructField(\"city\", StringType(), True),\n",
    "    StructField(\"create_ts\", StringType(), True)\n",
    "])\n",
    "\n",
    "# Create a DataFrame\n",
    "df = spark.createDataFrame(records, schema)\n",
    "df.show()\n",
    "\n",
    "# Create a temporary view\n",
    "df.createOrReplaceTempView(\"temp_people\")\n"
   ]
  },
  {
   "cell_type": "markdown",
   "id": "b3dd37b0-2ae3-4f3f-b71b-c8820e04ede4",
   "metadata": {},
   "source": [
    "# Create Table"
   ]
  },
  {
   "cell_type": "code",
   "execution_count": 92,
   "id": "79ccf8c3-addb-4a45-b919-16f2a0c45874",
   "metadata": {},
   "outputs": [
    {
     "data": {
      "text/html": [
       "<table>\n",
       "    <thead>\n",
       "        <tr>\n",
       "        </tr>\n",
       "    </thead>\n",
       "    <tbody>\n",
       "    </tbody>\n",
       "</table>"
      ],
      "text/plain": [
       "++\n",
       "||\n",
       "++\n",
       "++"
      ]
     },
     "execution_count": 92,
     "metadata": {},
     "output_type": "execute_result"
    }
   ],
   "source": [
    "%%sql\n",
    "CREATE TABLE IF NOT EXISTS icebergdb.people (\n",
    "    id INT,\n",
    "    name STRING,\n",
    "    age INT,\n",
    "    city STRING,\n",
    "    create_ts STRING\n",
    ")\n",
    "USING iceberg\n",
    "PARTITIONED BY (city)"
   ]
  },
  {
   "cell_type": "markdown",
   "id": "0b5b0355-9a85-428c-9555-49adefa32e11",
   "metadata": {},
   "source": [
    "# Inserts"
   ]
  },
  {
   "cell_type": "code",
   "execution_count": 93,
   "id": "4d96e6ea-a478-466d-996e-6cea68e07c3e",
   "metadata": {},
   "outputs": [
    {
     "data": {
      "text/html": [
       "<table>\n",
       "    <thead>\n",
       "        <tr>\n",
       "        </tr>\n",
       "    </thead>\n",
       "    <tbody>\n",
       "    </tbody>\n",
       "</table>"
      ],
      "text/plain": [
       "++\n",
       "||\n",
       "++\n",
       "++"
      ]
     },
     "execution_count": 93,
     "metadata": {},
     "output_type": "execute_result"
    }
   ],
   "source": [
    "%%sql\n",
    "INSERT INTO icebergdb.people\n",
    "SELECT * FROM temp_people"
   ]
  },
  {
   "cell_type": "code",
   "execution_count": 94,
   "id": "7142127a-3d1d-4681-b8bd-d483f0478863",
   "metadata": {},
   "outputs": [
    {
     "data": {
      "text/html": [
       "<table>\n",
       "    <thead>\n",
       "        <tr>\n",
       "            <th>id</th>\n",
       "            <th>name</th>\n",
       "            <th>age</th>\n",
       "            <th>city</th>\n",
       "            <th>create_ts</th>\n",
       "        </tr>\n",
       "    </thead>\n",
       "    <tbody>\n",
       "        <tr>\n",
       "            <td>1</td>\n",
       "            <td>John</td>\n",
       "            <td>25</td>\n",
       "            <td>NYC</td>\n",
       "            <td>2023-09-28 00:00:00</td>\n",
       "        </tr>\n",
       "        <tr>\n",
       "            <td>2</td>\n",
       "            <td>Emily</td>\n",
       "            <td>30</td>\n",
       "            <td>SFO</td>\n",
       "            <td>2023-09-28 00:00:00</td>\n",
       "        </tr>\n",
       "        <tr>\n",
       "            <td>3</td>\n",
       "            <td>Michael</td>\n",
       "            <td>35</td>\n",
       "            <td>ORD</td>\n",
       "            <td>2023-09-28 00:00:00</td>\n",
       "        </tr>\n",
       "        <tr>\n",
       "            <td>4</td>\n",
       "            <td>Andrew</td>\n",
       "            <td>40</td>\n",
       "            <td>NYC</td>\n",
       "            <td>2023-10-28 00:00:00</td>\n",
       "        </tr>\n",
       "        <tr>\n",
       "            <td>5</td>\n",
       "            <td>Bob</td>\n",
       "            <td>28</td>\n",
       "            <td>SEA</td>\n",
       "            <td>2023-09-23 00:00:00</td>\n",
       "        </tr>\n",
       "        <tr>\n",
       "            <td>6</td>\n",
       "            <td>Charlie</td>\n",
       "            <td>31</td>\n",
       "            <td>DFW</td>\n",
       "            <td>2023-08-29 00:00:00</td>\n",
       "        </tr>\n",
       "    </tbody>\n",
       "</table>"
      ],
      "text/plain": [
       "+----+---------+-----+------+---------------------+\n",
       "| id |    name | age | city |           create_ts |\n",
       "+----+---------+-----+------+---------------------+\n",
       "|  1 |    John |  25 |  NYC | 2023-09-28 00:00:00 |\n",
       "|  2 |   Emily |  30 |  SFO | 2023-09-28 00:00:00 |\n",
       "|  3 | Michael |  35 |  ORD | 2023-09-28 00:00:00 |\n",
       "|  4 |  Andrew |  40 |  NYC | 2023-10-28 00:00:00 |\n",
       "|  5 |     Bob |  28 |  SEA | 2023-09-23 00:00:00 |\n",
       "|  6 | Charlie |  31 |  DFW | 2023-08-29 00:00:00 |\n",
       "+----+---------+-----+------+---------------------+"
      ]
     },
     "execution_count": 94,
     "metadata": {},
     "output_type": "execute_result"
    }
   ],
   "source": [
    "%%sql\n",
    "SELECT * FROM icebergdb.people order by id asc"
   ]
  },
  {
   "cell_type": "code",
   "execution_count": 95,
   "id": "3c44e32c-7ac2-4b21-8293-e996b7b1a9dd",
   "metadata": {},
   "outputs": [
    {
     "data": {
      "text/html": [
       "<table>\n",
       "    <thead>\n",
       "        <tr>\n",
       "            <th>made_current_at</th>\n",
       "            <th>snapshot_id</th>\n",
       "            <th>parent_id</th>\n",
       "            <th>is_current_ancestor</th>\n",
       "        </tr>\n",
       "    </thead>\n",
       "    <tbody>\n",
       "        <tr>\n",
       "            <td>2024-08-06 21:33:59.073000</td>\n",
       "            <td>1123456840668910264</td>\n",
       "            <td>None</td>\n",
       "            <td>True</td>\n",
       "        </tr>\n",
       "    </tbody>\n",
       "</table>"
      ],
      "text/plain": [
       "+----------------------------+---------------------+-----------+---------------------+\n",
       "|            made_current_at |         snapshot_id | parent_id | is_current_ancestor |\n",
       "+----------------------------+---------------------+-----------+---------------------+\n",
       "| 2024-08-06 21:33:59.073000 | 1123456840668910264 |      None |                True |\n",
       "+----------------------------+---------------------+-----------+---------------------+"
      ]
     },
     "execution_count": 95,
     "metadata": {},
     "output_type": "execute_result"
    }
   ],
   "source": [
    "%%sql\n",
    "SELECT * FROM icebergdb.people.history;"
   ]
  },
  {
   "cell_type": "markdown",
   "id": "35e4dfd0-1571-4b5c-aad5-50b2ba10502d",
   "metadata": {},
   "source": [
    "# Delete Example"
   ]
  },
  {
   "cell_type": "code",
   "execution_count": 96,
   "id": "52c8ecb2-d972-40db-98bf-cdec3cb338f4",
   "metadata": {},
   "outputs": [
    {
     "data": {
      "text/html": [
       "<table>\n",
       "    <thead>\n",
       "        <tr>\n",
       "        </tr>\n",
       "    </thead>\n",
       "    <tbody>\n",
       "    </tbody>\n",
       "</table>"
      ],
      "text/plain": [
       "++\n",
       "||\n",
       "++\n",
       "++"
      ]
     },
     "execution_count": 96,
     "metadata": {},
     "output_type": "execute_result"
    }
   ],
   "source": [
    "%%sql\n",
    "DELETE FROM icebergdb.people WHERE id = 6;"
   ]
  },
  {
   "cell_type": "code",
   "execution_count": 97,
   "id": "101be871-37c7-4ebf-bc56-103620d132bb",
   "metadata": {},
   "outputs": [
    {
     "data": {
      "text/html": [
       "<table>\n",
       "    <thead>\n",
       "        <tr>\n",
       "            <th>id</th>\n",
       "            <th>name</th>\n",
       "            <th>age</th>\n",
       "            <th>city</th>\n",
       "            <th>create_ts</th>\n",
       "        </tr>\n",
       "    </thead>\n",
       "    <tbody>\n",
       "        <tr>\n",
       "            <td>1</td>\n",
       "            <td>John</td>\n",
       "            <td>25</td>\n",
       "            <td>NYC</td>\n",
       "            <td>2023-09-28 00:00:00</td>\n",
       "        </tr>\n",
       "        <tr>\n",
       "            <td>2</td>\n",
       "            <td>Emily</td>\n",
       "            <td>30</td>\n",
       "            <td>SFO</td>\n",
       "            <td>2023-09-28 00:00:00</td>\n",
       "        </tr>\n",
       "        <tr>\n",
       "            <td>3</td>\n",
       "            <td>Michael</td>\n",
       "            <td>35</td>\n",
       "            <td>ORD</td>\n",
       "            <td>2023-09-28 00:00:00</td>\n",
       "        </tr>\n",
       "        <tr>\n",
       "            <td>4</td>\n",
       "            <td>Andrew</td>\n",
       "            <td>40</td>\n",
       "            <td>NYC</td>\n",
       "            <td>2023-10-28 00:00:00</td>\n",
       "        </tr>\n",
       "        <tr>\n",
       "            <td>5</td>\n",
       "            <td>Bob</td>\n",
       "            <td>28</td>\n",
       "            <td>SEA</td>\n",
       "            <td>2023-09-23 00:00:00</td>\n",
       "        </tr>\n",
       "    </tbody>\n",
       "</table>"
      ],
      "text/plain": [
       "+----+---------+-----+------+---------------------+\n",
       "| id |    name | age | city |           create_ts |\n",
       "+----+---------+-----+------+---------------------+\n",
       "|  1 |    John |  25 |  NYC | 2023-09-28 00:00:00 |\n",
       "|  2 |   Emily |  30 |  SFO | 2023-09-28 00:00:00 |\n",
       "|  3 | Michael |  35 |  ORD | 2023-09-28 00:00:00 |\n",
       "|  4 |  Andrew |  40 |  NYC | 2023-10-28 00:00:00 |\n",
       "|  5 |     Bob |  28 |  SEA | 2023-09-23 00:00:00 |\n",
       "+----+---------+-----+------+---------------------+"
      ]
     },
     "execution_count": 97,
     "metadata": {},
     "output_type": "execute_result"
    }
   ],
   "source": [
    "%%sql\n",
    "SELECT * FROM icebergdb.people order by id asc"
   ]
  },
  {
   "cell_type": "code",
   "execution_count": 98,
   "id": "67fe345c-dd34-4bec-bb91-ca2756d0cfb0",
   "metadata": {},
   "outputs": [
    {
     "data": {
      "text/html": [
       "<table>\n",
       "    <thead>\n",
       "        <tr>\n",
       "            <th>made_current_at</th>\n",
       "            <th>snapshot_id</th>\n",
       "            <th>parent_id</th>\n",
       "            <th>is_current_ancestor</th>\n",
       "        </tr>\n",
       "    </thead>\n",
       "    <tbody>\n",
       "        <tr>\n",
       "            <td>2024-08-06 21:33:59.073000</td>\n",
       "            <td>1123456840668910264</td>\n",
       "            <td>None</td>\n",
       "            <td>True</td>\n",
       "        </tr>\n",
       "        <tr>\n",
       "            <td>2024-08-06 21:34:17.452000</td>\n",
       "            <td>5077088720527791611</td>\n",
       "            <td>1123456840668910264</td>\n",
       "            <td>True</td>\n",
       "        </tr>\n",
       "    </tbody>\n",
       "</table>"
      ],
      "text/plain": [
       "+----------------------------+---------------------+---------------------+---------------------+\n",
       "|            made_current_at |         snapshot_id |           parent_id | is_current_ancestor |\n",
       "+----------------------------+---------------------+---------------------+---------------------+\n",
       "| 2024-08-06 21:33:59.073000 | 1123456840668910264 |                None |                True |\n",
       "| 2024-08-06 21:34:17.452000 | 5077088720527791611 | 1123456840668910264 |                True |\n",
       "+----------------------------+---------------------+---------------------+---------------------+"
      ]
     },
     "execution_count": 98,
     "metadata": {},
     "output_type": "execute_result"
    }
   ],
   "source": [
    "%%sql\n",
    "SELECT * FROM icebergdb.people.history;"
   ]
  },
  {
   "cell_type": "markdown",
   "id": "78014d60-8480-4731-8edc-7b0354090666",
   "metadata": {},
   "source": [
    "# Update "
   ]
  },
  {
   "cell_type": "code",
   "execution_count": 99,
   "id": "355becc6-c003-43d7-ba07-014aba90e828",
   "metadata": {},
   "outputs": [
    {
     "data": {
      "text/html": [
       "<table>\n",
       "    <thead>\n",
       "        <tr>\n",
       "        </tr>\n",
       "    </thead>\n",
       "    <tbody>\n",
       "    </tbody>\n",
       "</table>"
      ],
      "text/plain": [
       "++\n",
       "||\n",
       "++\n",
       "++"
      ]
     },
     "execution_count": 99,
     "metadata": {},
     "output_type": "execute_result"
    }
   ],
   "source": [
    "%%sql\n",
    "MERGE INTO icebergdb.people AS target\n",
    "USING (\n",
    "    SELECT \n",
    "        1 AS id, \n",
    "        'John*' AS name, \n",
    "        25 AS age, \n",
    "        'NYC' AS city, \n",
    "        '2023-09-28 00:00:00' AS create_ts\n",
    ") AS source\n",
    "ON target.id = source.id\n",
    "WHEN MATCHED THEN\n",
    "    UPDATE SET \n",
    "        target.name = source.name,\n",
    "        target.age = source.age,\n",
    "        target.city = source.city,\n",
    "        target.create_ts = source.create_ts\n",
    "WHEN NOT MATCHED THEN\n",
    "    INSERT (id, name, age, city, create_ts)\n",
    "    VALUES (source.id, source.name, source.age, source.city, source.create_ts);"
   ]
  },
  {
   "cell_type": "code",
   "execution_count": 100,
   "id": "0aff0a7c-d87b-4a56-90a4-dc3e8ec69f73",
   "metadata": {},
   "outputs": [
    {
     "data": {
      "text/html": [
       "<table>\n",
       "    <thead>\n",
       "        <tr>\n",
       "            <th>id</th>\n",
       "            <th>name</th>\n",
       "            <th>age</th>\n",
       "            <th>city</th>\n",
       "            <th>create_ts</th>\n",
       "        </tr>\n",
       "    </thead>\n",
       "    <tbody>\n",
       "        <tr>\n",
       "            <td>2</td>\n",
       "            <td>Emily</td>\n",
       "            <td>30</td>\n",
       "            <td>SFO</td>\n",
       "            <td>2023-09-28 00:00:00</td>\n",
       "        </tr>\n",
       "        <tr>\n",
       "            <td>1</td>\n",
       "            <td>John*</td>\n",
       "            <td>25</td>\n",
       "            <td>NYC</td>\n",
       "            <td>2023-09-28 00:00:00</td>\n",
       "        </tr>\n",
       "        <tr>\n",
       "            <td>4</td>\n",
       "            <td>Andrew</td>\n",
       "            <td>40</td>\n",
       "            <td>NYC</td>\n",
       "            <td>2023-10-28 00:00:00</td>\n",
       "        </tr>\n",
       "        <tr>\n",
       "            <td>5</td>\n",
       "            <td>Bob</td>\n",
       "            <td>28</td>\n",
       "            <td>SEA</td>\n",
       "            <td>2023-09-23 00:00:00</td>\n",
       "        </tr>\n",
       "        <tr>\n",
       "            <td>3</td>\n",
       "            <td>Michael</td>\n",
       "            <td>35</td>\n",
       "            <td>ORD</td>\n",
       "            <td>2023-09-28 00:00:00</td>\n",
       "        </tr>\n",
       "    </tbody>\n",
       "</table>"
      ],
      "text/plain": [
       "+----+---------+-----+------+---------------------+\n",
       "| id |    name | age | city |           create_ts |\n",
       "+----+---------+-----+------+---------------------+\n",
       "|  2 |   Emily |  30 |  SFO | 2023-09-28 00:00:00 |\n",
       "|  1 |   John* |  25 |  NYC | 2023-09-28 00:00:00 |\n",
       "|  4 |  Andrew |  40 |  NYC | 2023-10-28 00:00:00 |\n",
       "|  5 |     Bob |  28 |  SEA | 2023-09-23 00:00:00 |\n",
       "|  3 | Michael |  35 |  ORD | 2023-09-28 00:00:00 |\n",
       "+----+---------+-----+------+---------------------+"
      ]
     },
     "execution_count": 100,
     "metadata": {},
     "output_type": "execute_result"
    }
   ],
   "source": [
    "%%sql\n",
    "SELECT * FROM icebergdb.people"
   ]
  },
  {
   "cell_type": "code",
   "execution_count": 101,
   "id": "d8edae5b-7167-4739-9924-e768ff5a8fe4",
   "metadata": {},
   "outputs": [
    {
     "data": {
      "text/html": [
       "<table>\n",
       "    <thead>\n",
       "        <tr>\n",
       "            <th>made_current_at</th>\n",
       "            <th>snapshot_id</th>\n",
       "            <th>parent_id</th>\n",
       "            <th>is_current_ancestor</th>\n",
       "        </tr>\n",
       "    </thead>\n",
       "    <tbody>\n",
       "        <tr>\n",
       "            <td>2024-08-06 21:33:59.073000</td>\n",
       "            <td>1123456840668910264</td>\n",
       "            <td>None</td>\n",
       "            <td>True</td>\n",
       "        </tr>\n",
       "        <tr>\n",
       "            <td>2024-08-06 21:34:17.452000</td>\n",
       "            <td>5077088720527791611</td>\n",
       "            <td>1123456840668910264</td>\n",
       "            <td>True</td>\n",
       "        </tr>\n",
       "        <tr>\n",
       "            <td>2024-08-06 21:34:20.645000</td>\n",
       "            <td>4585469957348916900</td>\n",
       "            <td>5077088720527791611</td>\n",
       "            <td>True</td>\n",
       "        </tr>\n",
       "    </tbody>\n",
       "</table>"
      ],
      "text/plain": [
       "+----------------------------+---------------------+---------------------+---------------------+\n",
       "|            made_current_at |         snapshot_id |           parent_id | is_current_ancestor |\n",
       "+----------------------------+---------------------+---------------------+---------------------+\n",
       "| 2024-08-06 21:33:59.073000 | 1123456840668910264 |                None |                True |\n",
       "| 2024-08-06 21:34:17.452000 | 5077088720527791611 | 1123456840668910264 |                True |\n",
       "| 2024-08-06 21:34:20.645000 | 4585469957348916900 | 5077088720527791611 |                True |\n",
       "+----------------------------+---------------------+---------------------+---------------------+"
      ]
     },
     "execution_count": 101,
     "metadata": {},
     "output_type": "execute_result"
    }
   ],
   "source": [
    "%%sql\n",
    "SELECT * FROM icebergdb.people.history;"
   ]
  },
  {
   "cell_type": "markdown",
   "id": "6d5ffcd1-e4f9-4f5b-b0be-b87e47840998",
   "metadata": {},
   "source": [
    "# Schema Evolution"
   ]
  },
  {
   "cell_type": "code",
   "execution_count": 102,
   "id": "dbf6a33c-5d38-4569-b3b4-5646c706596a",
   "metadata": {},
   "outputs": [
    {
     "data": {
      "text/html": [
       "<table>\n",
       "    <thead>\n",
       "        <tr>\n",
       "        </tr>\n",
       "    </thead>\n",
       "    <tbody>\n",
       "    </tbody>\n",
       "</table>"
      ],
      "text/plain": [
       "++\n",
       "||\n",
       "++\n",
       "++"
      ]
     },
     "execution_count": 102,
     "metadata": {},
     "output_type": "execute_result"
    }
   ],
   "source": [
    "%%sql\n",
    "ALTER TABLE icebergdb.people RENAME COLUMN name TO customer_name"
   ]
  },
  {
   "cell_type": "code",
   "execution_count": 103,
   "id": "6ec7290c-ab6d-4411-b76f-c82cfb3440d1",
   "metadata": {},
   "outputs": [
    {
     "data": {
      "text/html": [
       "<table>\n",
       "    <thead>\n",
       "        <tr>\n",
       "            <th>id</th>\n",
       "            <th>customer_name</th>\n",
       "            <th>age</th>\n",
       "            <th>city</th>\n",
       "            <th>create_ts</th>\n",
       "        </tr>\n",
       "    </thead>\n",
       "    <tbody>\n",
       "        <tr>\n",
       "            <td>1</td>\n",
       "            <td>John*</td>\n",
       "            <td>25</td>\n",
       "            <td>NYC</td>\n",
       "            <td>2023-09-28 00:00:00</td>\n",
       "        </tr>\n",
       "        <tr>\n",
       "            <td>2</td>\n",
       "            <td>Emily</td>\n",
       "            <td>30</td>\n",
       "            <td>SFO</td>\n",
       "            <td>2023-09-28 00:00:00</td>\n",
       "        </tr>\n",
       "        <tr>\n",
       "            <td>3</td>\n",
       "            <td>Michael</td>\n",
       "            <td>35</td>\n",
       "            <td>ORD</td>\n",
       "            <td>2023-09-28 00:00:00</td>\n",
       "        </tr>\n",
       "        <tr>\n",
       "            <td>4</td>\n",
       "            <td>Andrew</td>\n",
       "            <td>40</td>\n",
       "            <td>NYC</td>\n",
       "            <td>2023-10-28 00:00:00</td>\n",
       "        </tr>\n",
       "        <tr>\n",
       "            <td>5</td>\n",
       "            <td>Bob</td>\n",
       "            <td>28</td>\n",
       "            <td>SEA</td>\n",
       "            <td>2023-09-23 00:00:00</td>\n",
       "        </tr>\n",
       "    </tbody>\n",
       "</table>"
      ],
      "text/plain": [
       "+----+---------------+-----+------+---------------------+\n",
       "| id | customer_name | age | city |           create_ts |\n",
       "+----+---------------+-----+------+---------------------+\n",
       "|  1 |         John* |  25 |  NYC | 2023-09-28 00:00:00 |\n",
       "|  2 |         Emily |  30 |  SFO | 2023-09-28 00:00:00 |\n",
       "|  3 |       Michael |  35 |  ORD | 2023-09-28 00:00:00 |\n",
       "|  4 |        Andrew |  40 |  NYC | 2023-10-28 00:00:00 |\n",
       "|  5 |           Bob |  28 |  SEA | 2023-09-23 00:00:00 |\n",
       "+----+---------------+-----+------+---------------------+"
      ]
     },
     "execution_count": 103,
     "metadata": {},
     "output_type": "execute_result"
    }
   ],
   "source": [
    "%%sql\n",
    "SELECT * FROM icebergdb.people order by id asc"
   ]
  },
  {
   "cell_type": "code",
   "execution_count": 104,
   "id": "3db0e6d8-e4e5-45d4-97ac-bc8862c16dfe",
   "metadata": {},
   "outputs": [
    {
     "data": {
      "text/html": [
       "<table>\n",
       "    <thead>\n",
       "        <tr>\n",
       "            <th>made_current_at</th>\n",
       "            <th>snapshot_id</th>\n",
       "            <th>parent_id</th>\n",
       "            <th>is_current_ancestor</th>\n",
       "        </tr>\n",
       "    </thead>\n",
       "    <tbody>\n",
       "        <tr>\n",
       "            <td>2024-08-06 21:33:59.073000</td>\n",
       "            <td>1123456840668910264</td>\n",
       "            <td>None</td>\n",
       "            <td>True</td>\n",
       "        </tr>\n",
       "        <tr>\n",
       "            <td>2024-08-06 21:34:17.452000</td>\n",
       "            <td>5077088720527791611</td>\n",
       "            <td>1123456840668910264</td>\n",
       "            <td>True</td>\n",
       "        </tr>\n",
       "        <tr>\n",
       "            <td>2024-08-06 21:34:20.645000</td>\n",
       "            <td>4585469957348916900</td>\n",
       "            <td>5077088720527791611</td>\n",
       "            <td>True</td>\n",
       "        </tr>\n",
       "    </tbody>\n",
       "</table>"
      ],
      "text/plain": [
       "+----------------------------+---------------------+---------------------+---------------------+\n",
       "|            made_current_at |         snapshot_id |           parent_id | is_current_ancestor |\n",
       "+----------------------------+---------------------+---------------------+---------------------+\n",
       "| 2024-08-06 21:33:59.073000 | 1123456840668910264 |                None |                True |\n",
       "| 2024-08-06 21:34:17.452000 | 5077088720527791611 | 1123456840668910264 |                True |\n",
       "| 2024-08-06 21:34:20.645000 | 4585469957348916900 | 5077088720527791611 |                True |\n",
       "+----------------------------+---------------------+---------------------+---------------------+"
      ]
     },
     "execution_count": 104,
     "metadata": {},
     "output_type": "execute_result"
    }
   ],
   "source": [
    "%%sql\n",
    "SELECT * FROM icebergdb.people.history;"
   ]
  },
  {
   "cell_type": "markdown",
   "id": "6cbc3a49-d8f8-4e5c-8dad-247f0951033b",
   "metadata": {},
   "source": [
    "# Time Travel"
   ]
  },
  {
   "cell_type": "code",
   "execution_count": 105,
   "id": "d62775cf-56be-473f-939e-1c2b27e5af66",
   "metadata": {},
   "outputs": [
    {
     "data": {
      "text/html": [
       "<table>\n",
       "    <thead>\n",
       "        <tr>\n",
       "            <th>made_current_at</th>\n",
       "            <th>snapshot_id</th>\n",
       "            <th>parent_id</th>\n",
       "            <th>is_current_ancestor</th>\n",
       "        </tr>\n",
       "    </thead>\n",
       "    <tbody>\n",
       "        <tr>\n",
       "            <td>2024-08-06 21:33:59.073000</td>\n",
       "            <td>1123456840668910264</td>\n",
       "            <td>None</td>\n",
       "            <td>True</td>\n",
       "        </tr>\n",
       "        <tr>\n",
       "            <td>2024-08-06 21:34:17.452000</td>\n",
       "            <td>5077088720527791611</td>\n",
       "            <td>1123456840668910264</td>\n",
       "            <td>True</td>\n",
       "        </tr>\n",
       "        <tr>\n",
       "            <td>2024-08-06 21:34:20.645000</td>\n",
       "            <td>4585469957348916900</td>\n",
       "            <td>5077088720527791611</td>\n",
       "            <td>True</td>\n",
       "        </tr>\n",
       "    </tbody>\n",
       "</table>"
      ],
      "text/plain": [
       "+----------------------------+---------------------+---------------------+---------------------+\n",
       "|            made_current_at |         snapshot_id |           parent_id | is_current_ancestor |\n",
       "+----------------------------+---------------------+---------------------+---------------------+\n",
       "| 2024-08-06 21:33:59.073000 | 1123456840668910264 |                None |                True |\n",
       "| 2024-08-06 21:34:17.452000 | 5077088720527791611 | 1123456840668910264 |                True |\n",
       "| 2024-08-06 21:34:20.645000 | 4585469957348916900 | 5077088720527791611 |                True |\n",
       "+----------------------------+---------------------+---------------------+---------------------+"
      ]
     },
     "execution_count": 105,
     "metadata": {},
     "output_type": "execute_result"
    }
   ],
   "source": [
    "%%sql --var df\n",
    "SELECT * FROM icebergdb.people.history"
   ]
  },
  {
   "cell_type": "code",
   "execution_count": 106,
   "id": "f67391c6-eda5-44b2-92ab-cd49ba8b22b7",
   "metadata": {},
   "outputs": [
    {
     "name": "stdout",
     "output_type": "stream",
     "text": [
      "original_snapshot 1123456840668910264\n"
     ]
    },
    {
     "data": {
      "text/plain": [
       "1123456840668910264"
      ]
     },
     "execution_count": 106,
     "metadata": {},
     "output_type": "execute_result"
    }
   ],
   "source": [
    "original_snapshot = df.head().snapshot_id\n",
    "print(\"original_snapshot\",original_snapshot)\n",
    "\n",
    "spark.sql(f\"CALL system.rollback_to_snapshot('icebergdb.people', {original_snapshot})\")\n",
    "\n",
    "original_snapshot\n"
   ]
  },
  {
   "cell_type": "code",
   "execution_count": 107,
   "id": "72c89b7b-bad1-4769-8caa-1a11f33d782b",
   "metadata": {},
   "outputs": [
    {
     "data": {
      "text/html": [
       "<table>\n",
       "    <thead>\n",
       "        <tr>\n",
       "            <th>id</th>\n",
       "            <th>customer_name</th>\n",
       "            <th>age</th>\n",
       "            <th>city</th>\n",
       "            <th>create_ts</th>\n",
       "        </tr>\n",
       "    </thead>\n",
       "    <tbody>\n",
       "        <tr>\n",
       "            <td>1</td>\n",
       "            <td>John</td>\n",
       "            <td>25</td>\n",
       "            <td>NYC</td>\n",
       "            <td>2023-09-28 00:00:00</td>\n",
       "        </tr>\n",
       "        <tr>\n",
       "            <td>2</td>\n",
       "            <td>Emily</td>\n",
       "            <td>30</td>\n",
       "            <td>SFO</td>\n",
       "            <td>2023-09-28 00:00:00</td>\n",
       "        </tr>\n",
       "        <tr>\n",
       "            <td>3</td>\n",
       "            <td>Michael</td>\n",
       "            <td>35</td>\n",
       "            <td>ORD</td>\n",
       "            <td>2023-09-28 00:00:00</td>\n",
       "        </tr>\n",
       "        <tr>\n",
       "            <td>4</td>\n",
       "            <td>Andrew</td>\n",
       "            <td>40</td>\n",
       "            <td>NYC</td>\n",
       "            <td>2023-10-28 00:00:00</td>\n",
       "        </tr>\n",
       "        <tr>\n",
       "            <td>5</td>\n",
       "            <td>Bob</td>\n",
       "            <td>28</td>\n",
       "            <td>SEA</td>\n",
       "            <td>2023-09-23 00:00:00</td>\n",
       "        </tr>\n",
       "        <tr>\n",
       "            <td>6</td>\n",
       "            <td>Charlie</td>\n",
       "            <td>31</td>\n",
       "            <td>DFW</td>\n",
       "            <td>2023-08-29 00:00:00</td>\n",
       "        </tr>\n",
       "    </tbody>\n",
       "</table>"
      ],
      "text/plain": [
       "+----+---------------+-----+------+---------------------+\n",
       "| id | customer_name | age | city |           create_ts |\n",
       "+----+---------------+-----+------+---------------------+\n",
       "|  1 |          John |  25 |  NYC | 2023-09-28 00:00:00 |\n",
       "|  2 |         Emily |  30 |  SFO | 2023-09-28 00:00:00 |\n",
       "|  3 |       Michael |  35 |  ORD | 2023-09-28 00:00:00 |\n",
       "|  4 |        Andrew |  40 |  NYC | 2023-10-28 00:00:00 |\n",
       "|  5 |           Bob |  28 |  SEA | 2023-09-23 00:00:00 |\n",
       "|  6 |       Charlie |  31 |  DFW | 2023-08-29 00:00:00 |\n",
       "+----+---------------+-----+------+---------------------+"
      ]
     },
     "execution_count": 107,
     "metadata": {},
     "output_type": "execute_result"
    }
   ],
   "source": [
    "%%sql\n",
    "SELECT * FROM icebergdb.people order by id asc"
   ]
  },
  {
   "cell_type": "markdown",
   "id": "7a8eb264-fec6-456f-aa15-be5e80786251",
   "metadata": {},
   "source": [
    "## Metadata Tables\n",
    "\n",
    "Iceberg tables contain very rich metadata that can be easily queried. For example, you can retrieve the manifest list for any snapshot, simply by querying the table's `snapshots` table."
   ]
  },
  {
   "cell_type": "code",
   "execution_count": 109,
   "id": "ad037ee0-b835-484a-934b-f178b5df557d",
   "metadata": {},
   "outputs": [
    {
     "data": {
      "text/html": [
       "<table>\n",
       "    <thead>\n",
       "        <tr>\n",
       "            <th>snapshot_id</th>\n",
       "            <th>manifest_list</th>\n",
       "        </tr>\n",
       "    </thead>\n",
       "    <tbody>\n",
       "        <tr>\n",
       "            <td>1123456840668910264</td>\n",
       "            <td>s3://warehouse/icebergdb/people/metadata/snap-1123456840668910264-1-eb255d2e-3de7-4c61-9198-90868925f7a0.avro</td>\n",
       "        </tr>\n",
       "        <tr>\n",
       "            <td>5077088720527791611</td>\n",
       "            <td>s3://warehouse/icebergdb/people/metadata/snap-5077088720527791611-1-aa95295a-1fc5-45f1-814d-95e21426ad48.avro</td>\n",
       "        </tr>\n",
       "        <tr>\n",
       "            <td>4585469957348916900</td>\n",
       "            <td>s3://warehouse/icebergdb/people/metadata/snap-4585469957348916900-1-01f15fe5-393f-4077-92ff-087ed94a69fc.avro</td>\n",
       "        </tr>\n",
       "    </tbody>\n",
       "</table>"
      ],
      "text/plain": [
       "+---------------------+---------------------------------------------------------------------------------------------------------------+\n",
       "|         snapshot_id |                                                                                                 manifest_list |\n",
       "+---------------------+---------------------------------------------------------------------------------------------------------------+\n",
       "| 1123456840668910264 | s3://warehouse/icebergdb/people/metadata/snap-1123456840668910264-1-eb255d2e-3de7-4c61-9198-90868925f7a0.avro |\n",
       "| 5077088720527791611 | s3://warehouse/icebergdb/people/metadata/snap-5077088720527791611-1-aa95295a-1fc5-45f1-814d-95e21426ad48.avro |\n",
       "| 4585469957348916900 | s3://warehouse/icebergdb/people/metadata/snap-4585469957348916900-1-01f15fe5-393f-4077-92ff-087ed94a69fc.avro |\n",
       "+---------------------+---------------------------------------------------------------------------------------------------------------+"
      ]
     },
     "execution_count": 109,
     "metadata": {},
     "output_type": "execute_result"
    }
   ],
   "source": [
    "%%sql\n",
    "\n",
    "SELECT snapshot_id, manifest_list\n",
    "FROM icebergdb.people.snapshots"
   ]
  },
  {
   "cell_type": "markdown",
   "id": "bfacc1aa-1149-4367-85d6-787d6d36ab62",
   "metadata": {},
   "source": [
    "# Delete Table"
   ]
  },
  {
   "cell_type": "code",
   "execution_count": 89,
   "id": "801b6a8c-9056-488c-a9cc-d304d0665bc5",
   "metadata": {},
   "outputs": [
    {
     "data": {
      "text/html": [
       "<table>\n",
       "    <thead>\n",
       "        <tr>\n",
       "        </tr>\n",
       "    </thead>\n",
       "    <tbody>\n",
       "    </tbody>\n",
       "</table>"
      ],
      "text/plain": [
       "++\n",
       "||\n",
       "++\n",
       "++"
      ]
     },
     "execution_count": 89,
     "metadata": {},
     "output_type": "execute_result"
    }
   ],
   "source": [
    "%%sql\n",
    "DROP TABLE icebergdb.people"
   ]
  }
 ],
 "metadata": {
  "kernelspec": {
   "display_name": "Python 3 (ipykernel)",
   "language": "python",
   "name": "python3"
  },
  "language_info": {
   "codemirror_mode": {
    "name": "ipython",
    "version": 3
   },
   "file_extension": ".py",
   "mimetype": "text/x-python",
   "name": "python",
   "nbconvert_exporter": "python",
   "pygments_lexer": "ipython3",
   "version": "3.10.14"
  }
 },
 "nbformat": 4,
 "nbformat_minor": 5
}
